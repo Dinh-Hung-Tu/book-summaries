{
 "cells": [
  {
   "cell_type": "markdown",
   "metadata": {},
   "source": [
    "# Large scale file system and Map-Reduce"
   ]
  },
  {
   "cell_type": "markdown",
   "metadata": {},
   "source": [
    "The needs to exploit regular structure by parallelism"
   ]
  },
  {
   "cell_type": "markdown",
   "metadata": {},
   "source": [
    "## 1. Distributed File Systems\n",
    "Earlier, huge computation is done in specialised architecture (costly). Now, using many commodity computers to exploit parallelism. "
   ]
  },
  {
   "cell_type": "markdown",
   "metadata": {},
   "source": [
    "### Physical Organisation"
   ]
  },
  {
   "cell_type": "markdown",
   "metadata": {},
   "source": [
    "* Clusters of nodes on racks. Connecting by Gigabit Ethernet. Connectivity between racks is of higher speed. \n",
    "* Handle failures due to equipment failures by: redundant storage and computation split into tasks."
   ]
  },
  {
   "cell_type": "markdown",
   "metadata": {},
   "source": [
    "### Large-Scale File-System Organisation"
   ]
  },
  {
   "cell_type": "markdown",
   "metadata": {},
   "source": [
    "* Suitable for (1) large size (2) irregular updates (e.g. not for booking system). \n",
    "* Master node (also called Name node) is the directory for location of files and theirs copies. "
   ]
  },
  {
   "cell_type": "markdown",
   "metadata": {},
   "source": [
    "## 2. Map-Reduce"
   ]
  },
  {
   "cell_type": "markdown",
   "metadata": {},
   "source": [
    "1. Mapping: elements (documents) => map node => (key-value) pairs\n",
    "2. Grouping:  (key-value) pairs => master node, using hash function of the key => key-list-of-value pairs (k, [v1, v2, …, vn]) \n",
    "3. Reducing: (k, [v1, v2, …, vn])  => reduce node, apply combiner functions to list of values to return m => (k, m). \n",
    "4. Combiners: associative and commutative (like +, x) so that order of arrival to the function is not important. "
   ]
  },
  {
   "cell_type": "markdown",
   "metadata": {},
   "source": [
    "### External example by Spark"
   ]
  },
  {
   "cell_type": "markdown",
   "metadata": {},
   "source": [
    "Activate the PySpark shell from the PySpark folder and read the file"
   ]
  },
  {
   "cell_type": "code",
   "execution_count": null,
   "metadata": {
    "collapsed": true
   },
   "outputs": [],
   "source": [
    "./bin/pyspark"
   ]
  },
  {
   "cell_type": "code",
   "execution_count": null,
   "metadata": {
    "collapsed": true
   },
   "outputs": [],
   "source": [
    "textFile = sc.textFile(\"README.md\")"
   ]
  },
  {
   "cell_type": "markdown",
   "metadata": {},
   "source": [
    "Combine flatMap, map, and reduceByKey"
   ]
  },
  {
   "cell_type": "code",
   "execution_count": null,
   "metadata": {
    "collapsed": true
   },
   "outputs": [],
   "source": [
    "wordCounts = textFile.flatMap(lambda line: line.split()).map(lambda word: (word, 1)).reduceByKey(lambda a, b: a+b)"
   ]
  },
  {
   "cell_type": "markdown",
   "metadata": {},
   "source": [
    "## 3. Algorithms using Map-Reduce"
   ]
  },
  {
   "cell_type": "markdown",
   "metadata": {},
   "source": [
    "examples and revision of Relational Algebra underlying algorithms (if implemented in Map-Reduce)"
   ]
  },
  {
   "cell_type": "markdown",
   "metadata": {},
   "source": [
    "### Matrix-Vector multiplication"
   ]
  },
  {
   "cell_type": "markdown",
   "metadata": {},
   "source": [
    "* INPUT: $n\\times m$ matrix M and $ n\\times1$ vector V. Assuming n is large so that M can’t be held in the memory but V is small enough to stay in the memory. \n",
    "* OUTPUT: Tuples $(i, x_i)$ where $x_i = \\sum_{j=1}^n m_{ij}v_{j}$\n",
    "* ALGO: \n",
    "    * Map: Each element $m_{ij}$ of the matrix $M$ produce the key value pair $(i, m_{ij}v_j)$. In essence, each element $m_{ij}$ => pair of $(i,j)$. $i$ for the first part (the $key$), $j$ to find the $v_j$ and multiply to make up the second part (the $value$). \n",
    "    * Reduce: sums all values associated with the given key $i$"
   ]
  },
  {
   "cell_type": "markdown",
   "metadata": {},
   "source": [
    "### Extension: What if V is too large to hold in memory?"
   ]
  },
  {
   "cell_type": "markdown",
   "metadata": {},
   "source": [
    "Solution: split V into k chunks where each chunk is fit into the memory, likewise, stripes (i.e. k stripes). Stripe i-th is always multiplied by chunk i-th in V"
   ]
  },
  {
   "cell_type": "markdown",
   "metadata": {
    "collapsed": false
   },
   "source": [
    "![](img/matrix_vector.png)"
   ]
  },
  {
   "cell_type": "markdown",
   "metadata": {},
   "source": [
    "### Relational-Algebra"
   ]
  },
  {
   "cell_type": "markdown",
   "metadata": {
    "collapsed": true
   },
   "source": [
    "* A relation is a table with columns headers called $attributes$. \n",
    "* Set of attributes is called $schema$. \n",
    "* R(A1, A2, …, An) relation R and attributes A1, … An\n",
    "\n",
    "Main idea of the follow subsections is to describe Traditional Relational Algebra in terms of Map-Reduce."
   ]
  },
  {
   "cell_type": "markdown",
   "metadata": {},
   "source": [
    "### Matrix x Matrix"
   ]
  },
  {
   "cell_type": "markdown",
   "metadata": {},
   "source": [
    "* INPUT: $n\\times m$ matrix M and $n\\times m$ matrix M. Assuming n is large so that M can’t be held in the memory but V is small enough to stay in the memory. \n",
    "* OUTPUT: Matrix $P = M\\times N$. Tuples $(i, k, p_{ik})$ where $p_{ik} = \\sum_{j=1}^n m_{ij}n_{jk}$\n",
    "* ALGO: \n",
    "    * Map 1: Each element $m_{ij}$ of the matrix $M$ produce the key value pair $(j, (M, i, m_{ij}))$. Likewise, $n_{jk}$ of the matrix $N$ produce the key value pair $(j, (N, k, n_{jk}))$\n",
    "    * Reduce 1: For each key $j$, take a product function and get $(j, (i,k,m_{ij}n_{jk})$ for different value of $j$\n",
    "    * Map 2 with $(i,k)$ as grouping: \n",
    "        * Continue with output of Reduce 1 above. \n",
    "        * Denote $v_q = m_{i_qj}\\times n_{jk_q}$ for example $v_1 = m_{i_1j}\\times n_{jk_1}$. \n",
    "        * Output $((i_1, k_1), v_1), ((i_2, k_2), v_2), ..., ((i_n, k_n), v_n)$\n",
    "    * Reduce 2: Aggreation of as the sum of $v$. The result is pair $((i,k), v)$"
   ]
  },
  {
   "cell_type": "markdown",
   "metadata": {},
   "source": [
    "## 4. Extension to Map-Reduce "
   ]
  },
  {
   "cell_type": "markdown",
   "metadata": {},
   "source": [
    "(Advanced topics - TODO read again)"
   ]
  },
  {
   "cell_type": "markdown",
   "metadata": {},
   "source": [
    "## 5. Efficiency of Cluster-Computing Algorithms"
   ]
  },
  {
   "cell_type": "markdown",
   "metadata": {},
   "source": [
    "(Advanced topics - TODO read again)"
   ]
  },
  {
   "cell_type": "code",
   "execution_count": null,
   "metadata": {
    "collapsed": true
   },
   "outputs": [],
   "source": []
  }
 ],
 "metadata": {
  "anaconda-cloud": {},
  "kernelspec": {
   "display_name": "Python [default]",
   "language": "python",
   "name": "python2"
  },
  "language_info": {
   "codemirror_mode": {
    "name": "ipython",
    "version": 2
   },
   "file_extension": ".py",
   "mimetype": "text/x-python",
   "name": "python",
   "nbconvert_exporter": "python",
   "pygments_lexer": "ipython2",
   "version": "2.7.12"
  }
 },
 "nbformat": 4,
 "nbformat_minor": 1
}
