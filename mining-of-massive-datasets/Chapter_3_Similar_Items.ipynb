{
 "cells": [
  {
   "cell_type": "markdown",
   "metadata": {},
   "source": [
    "# Finding similar items"
   ]
  },
  {
   "cell_type": "markdown",
   "metadata": {},
   "source": [
    "## 2. Shingling of documents"
   ]
  },
  {
   "cell_type": "markdown",
   "metadata": {},
   "source": [
    "Reference: \n",
    "* Information Retrieval Book https://nlp.stanford.edu/IR-book/html/htmledition/near-duplicates-and-shingling-1.html\n",
    "* Elasticsearch Blog: https://www.elastic.co/blog/searching-with-shingles\n",
    "\n",
    "Similar concepts: **n-gram** vs **shingles**\n",
    "\n",
    "**n-gram** is a contiguous sequence of n items from a given sequence of text or speech. The items can be phonemes, syllables, letters, words or base pairs according to the application. When the items are words, n-grams may also be called **shingles**. [Wikipedia]"
   ]
  },
  {
   "cell_type": "markdown",
   "metadata": {},
   "source": [
    "### 2.2 Choosing Shingling size"
   ]
  },
  {
   "cell_type": "markdown",
   "metadata": {},
   "source": [
    "* K should be large enough that the probability of any given shingle appearing in any given document is low"
   ]
  },
  {
   "cell_type": "markdown",
   "metadata": {},
   "source": [
    "### 2.3 Hashing Shingles"
   ]
  },
  {
   "cell_type": "markdown",
   "metadata": {},
   "source": [
    "* Why hashing is needed? For data storage and query efficiency. \n",
    "\n",
    "In details, assuming we keep 9-shingles (9-char-length substring). For example, a shingle, \"ABCDEFGHI\", there are $27^{9}=3^{27}$ possible combinations. $2^{32} (~4mil)$"
   ]
  },
  {
   "cell_type": "markdown",
   "metadata": {
    "collapsed": true
   },
   "source": [
    "### 2.4 Singles built from words"
   ]
  },
  {
   "cell_type": "markdown",
   "metadata": {},
   "source": [
    "* Stop words can be filtered out, or\n",
    "* Combined with following words to give 3-word singles"
   ]
  },
  {
   "cell_type": "markdown",
   "metadata": {},
   "source": [
    "## 3. Similarity-Preserving Summaries of Sets"
   ]
  },
  {
   "cell_type": "markdown",
   "metadata": {},
   "source": [
    "* An observation: Storing shingles (n-gram is a more familiar concept) would cost memory n times the document itself. \n",
    "* Why? Because words are repeated in consecutive n-grams. E.g. the word \"**are**\" is repeated 3 times in consecutive 3-word shingles in sentence \"hello how **are** you today\": [\"hello how **are**\", \"how **are** you\", \"**are** you today\"]\n",
    "\n",
    "    => It is impossibly large to store all of the shingles\n",
    "    \n",
    "        => Find a more compact set of \"signatures\"\n",
    "        \n",
    "### 3.1 Matrix representation of the sets\n",
    "Concepts:\n",
    "* Universal set (like vocabulary set of all documents) {a, b, c, d, e}\n",
    "* Sets of interest: $S_1$={a, d}, and likewise for $S_2$, $S_3$, $S_4$. For example, they are 4 documents. \n",
    "\n",
    "Another way to think of this matrix is: rows representing items and columns representing customers."
   ]
  },
  {
   "cell_type": "markdown",
   "metadata": {},
   "source": [
    "### 3.2 Minhashing\n",
    "* Signatures from large number of calculation, each is a minhash of the matrix above. \n",
    "    * From signatures, we can compare and estimate similarity (Jaccard, in this case) between sets.\n",
    "* Minhash steps in principle: (1) pick a permutation of rows => (2) hash value = row number of first 1\n",
    "\n",
    "For example, from the orginal order: (a, b, c, d, e) re-arrange the order of the rows to (b, e, a, c, d).\n",
    "\n",
    "| Elements | $S_1$ | $S_2$|$S_3$|$S_4$\n",
    "| :-:      |:-:    |:-:   |:-:  | :-:\n",
    "| b | 0 | 0 | 1 | 0  \n",
    "| e | 0 | 0 | 1 | 0\n",
    "| a | 1 | 0 | 0 | 1 \n",
    "| d | 1 | 0 | 1 | 1\n",
    "| c | 0 | 1 | 0 | 1\n",
    "The hash function apply in each set would give: $h(S_1)=a, h(S_2)=c, h(S_3)=b, h(S_4)=d$. "
   ]
  },
  {
   "cell_type": "markdown",
   "metadata": {},
   "source": [
    "### 3.3 Minhasing and Jaccard Similarity\n",
    "By probability reasoning we have\n",
    "\n",
    "$\\text{Prob}(h(S_1)==h(S_2))=\\frac{x}{x+y}$ where \n",
    "* $x$ is the number of rows where both columns have 1, \n",
    "* $y$ is the number of column where 1 appears in only one of the column of the pair."
   ]
  },
  {
   "cell_type": "markdown",
   "metadata": {},
   "source": [
    "### 3.4 Minhash Signatures\n",
    "* Take a set S\n",
    "* Take i.e. 100 hash function (permutation of the row index) and apply on the set S\n",
    "* Get [$h_1(S), h_2(S), ..., h_n(S)$]\n",
    "* Order them into **signature matrix**\n",
    "\n",
    "## 3.5 Computing Minhash Signatures\n",
    "* Coming to reality, not feasible to compute permutation of millions of rows. \n",
    "* Simulate by a hash function: n rows -> n buckets.  Accept collision and empty buckets. \n",
    "* Denote $SIG(i,c)$ is result of i-th hash function with set $S_c$\n",
    "    * Consider row r of each column. \n",
    "    * Compute $h_1(r), h_2(r),...,h_n(r)$. For example: $h_1=3x+1 \\text{ mod }5$\n",
    "    * For each column c:\n",
    "    \n",
    "    ```\n",
    "    if c[r] == 0: #(value of c in row r)\n",
    "        pass\n",
    "    elif c[r] == 1: \n",
    "        for i in range(1,n):\n",
    "            SIG(i,c) = min(SIG(i,c), h_i(r))   Reducing the row to have the chance picking the min row\n",
    "    ```"
   ]
  },
  {
   "cell_type": "markdown",
   "metadata": {},
   "source": [
    "* Finally, obtain the signature matrix. Then apply Jaccard similarity function on the columns. \n",
    "    \n",
    "    \n",
    "|       | $S_1$ | $S_2$|$S_3$|$S_4$\n",
    "| :-:   |:-:    |:-:   |:-:  | :-:\n",
    "| $h_1$ | 1     | 3    | 0   | 1\n",
    "| $h_2$ | 0     | 2    | 0   | 0"
   ]
  }
 ],
 "metadata": {
  "anaconda-cloud": {},
  "kernelspec": {
   "display_name": "Python [default]",
   "language": "python",
   "name": "python2"
  },
  "language_info": {
   "codemirror_mode": {
    "name": "ipython",
    "version": 2
   },
   "file_extension": ".py",
   "mimetype": "text/x-python",
   "name": "python",
   "nbconvert_exporter": "python",
   "pygments_lexer": "ipython2",
   "version": "2.7.12"
  }
 },
 "nbformat": 4,
 "nbformat_minor": 1
}
