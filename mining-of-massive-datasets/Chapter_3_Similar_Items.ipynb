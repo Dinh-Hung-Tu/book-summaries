{
 "cells": [
  {
   "cell_type": "markdown",
   "metadata": {},
   "source": [
    "# Finding similar items"
   ]
  },
  {
   "cell_type": "markdown",
   "metadata": {},
   "source": [
    "## 2. Shingling of documents"
   ]
  },
  {
   "cell_type": "markdown",
   "metadata": {},
   "source": [
    "Reference: \n",
    "* Information Retrieval Book https://nlp.stanford.edu/IR-book/html/htmledition/near-duplicates-and-shingling-1.html\n",
    "* Elasticsearch Blog: https://www.elastic.co/blog/searching-with-shingles\n",
    "\n",
    "Similar concepts: **n-gram** vs **shingles**\n",
    "\n",
    "**n-gram** is a contiguous sequence of n items from a given sequence of text or speech. The items can be phonemes, syllables, letters, words or base pairs according to the application. When the items are words, n-grams may also be called **shingles**. [Wikipedia]"
   ]
  },
  {
   "cell_type": "markdown",
   "metadata": {},
   "source": [
    "### 2.2 Choosing Shingling size"
   ]
  },
  {
   "cell_type": "markdown",
   "metadata": {},
   "source": [
    "* K should be large enough that the probability of any given shingle appearing in any given document is low"
   ]
  },
  {
   "cell_type": "markdown",
   "metadata": {},
   "source": [
    "### 2.3 Hashing Shingles"
   ]
  },
  {
   "cell_type": "markdown",
   "metadata": {},
   "source": [
    "* Why hashing is needed? For data storage and query efficiency. \n",
    "\n",
    "In details, assuming we keep 9-shingles (9-char-length substring). For example, a shingle, \"ABCDEFGHI\", there are $27^{9}=3^{27}$ possible combinations. $2^{32} (~4mil)$"
   ]
  },
  {
   "cell_type": "code",
   "execution_count": null,
   "metadata": {
    "collapsed": true
   },
   "outputs": [],
   "source": []
  }
 ],
 "metadata": {
  "anaconda-cloud": {},
  "kernelspec": {
   "display_name": "Python [default]",
   "language": "python",
   "name": "python2"
  },
  "language_info": {
   "codemirror_mode": {
    "name": "ipython",
    "version": 2
   },
   "file_extension": ".py",
   "mimetype": "text/x-python",
   "name": "python",
   "nbconvert_exporter": "python",
   "pygments_lexer": "ipython2",
   "version": "2.7.12"
  }
 },
 "nbformat": 4,
 "nbformat_minor": 1
}
