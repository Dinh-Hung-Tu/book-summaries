{
 "cells": [
  {
   "cell_type": "markdown",
   "metadata": {},
   "source": [
    "# Clustering"
   ]
  },
  {
   "cell_type": "markdown",
   "metadata": {},
   "source": [
    "Key idea: Points within the same clusters have a small distances from one another. Points in different clusters are at large distance from one another.\n",
    "\n",
    "Challenge: data does not fit in the main memory, and non-Euclidean space (e.g. cluster moviegoers)"
   ]
  },
  {
   "cell_type": "markdown",
   "metadata": {},
   "source": [
    "## 1. Introduction to clustering techniques"
   ]
  },
  {
   "cell_type": "markdown",
   "metadata": {},
   "source": [
    "###  Distance measures \n",
    "*  non-negative and self-distance = 0. \n",
    "*  symmetric \n",
    "* triangle inequality"
   ]
  },
  {
   "cell_type": "markdown",
   "metadata": {
    "collapsed": true
   },
   "source": [
    "### Clustering strategies\n",
    "* Hierachical: clusters are combined based on their closeness \n",
    "* Point assignment: Each point is assigned to its cluster\n",
    "\n",
    "Two important aspects of the algorithm\n",
    "* Distance: Euclidean or non-Euclidean\n",
    "* Size of data fit memory or not (streaming case)"
   ]
  },
  {
   "cell_type": "markdown",
   "metadata": {},
   "source": [
    "## 2. Hierachical clustering \n",
    "### in Euclidean space"
   ]
  },
  {
   "cell_type": "markdown",
   "metadata": {},
   "source": [
    "For each algorithm, address the 3 questions:\n",
    "* How will clusters be represented\n",
    "* How will we choose which two clusters to merge\n",
    "* When will we stop combining clusters"
   ]
  },
  {
   "cell_type": "markdown",
   "metadata": {},
   "source": [
    "In this family of algorithm, the cluster is represented by centroid, the average of all the points in the cluster"
   ]
  },
  {
   "cell_type": "markdown",
   "metadata": {},
   "source": [
    "### in non-Euclidean space\n",
    "for example, when distance between string is for example, edit distance"
   ]
  },
  {
   "cell_type": "markdown",
   "metadata": {},
   "source": [
    "Instead of a centroid, represent a cluster by one of the points of the cluster. Ideally, this point is close to all other points of the cluster, so it in some sense lies in the \"centers\"."
   ]
  },
  {
   "cell_type": "code",
   "execution_count": null,
   "metadata": {
    "collapsed": true
   },
   "outputs": [],
   "source": []
  }
 ],
 "metadata": {
  "anaconda-cloud": {},
  "kernelspec": {
   "display_name": "Python [default]",
   "language": "python",
   "name": "python2"
  },
  "language_info": {
   "codemirror_mode": {
    "name": "ipython",
    "version": 2
   },
   "file_extension": ".py",
   "mimetype": "text/x-python",
   "name": "python",
   "nbconvert_exporter": "python",
   "pygments_lexer": "ipython2",
   "version": "2.7.12"
  }
 },
 "nbformat": 4,
 "nbformat_minor": 1
}
