{
 "cells": [
  {
   "cell_type": "markdown",
   "metadata": {},
   "source": [
    "# Recommendation System"
   ]
  },
  {
   "cell_type": "markdown",
   "metadata": {},
   "source": [
    "## 1. A model for Recommendation Systems"
   ]
  },
  {
   "cell_type": "markdown",
   "metadata": {},
   "source": [
    "* Utility matrix: The representation of data itself. Giving for each user-item pair, a value that representswhat is known about the degree of preference of that user for that item. It is not necessary to predict every blank entry in a utility matrix. Rather, it is only necessary to discover some entries in each row that are likely to be high.\n",
    "* The long tail phenomena: Vertical axis: popularity. Horizontal axis: items. Physical stores can only tailor at the most popular articles but online stores have capability to  (and must) customise its products to users, even products in the tail area.\n",
    "* Populating the Utility matrix: \n",
    "    * (1) Directly request user rating \n",
    "    * (2) Inference from behaviour (purchase => like)"
   ]
  },
  {
   "cell_type": "markdown",
   "metadata": {},
   "source": [
    "## 2. Content-based Recommendations"
   ]
  },
  {
   "cell_type": "markdown",
   "metadata": {},
   "source": [
    "* Start with **Item profiles**, which is the vector of item's attributes e.g. song's genre, writer, singer, ...\n",
    "* Construct **User profles** which represent aggregate item profiles information of the items they interacted with. \n",
    "* Recommend User profile the items that have most similar item profiles. "
   ]
  },
  {
   "cell_type": "markdown",
   "metadata": {},
   "source": [
    "## 3. Collaborative-filtering"
   ]
  },
  {
   "cell_type": "markdown",
   "metadata": {},
   "source": [
    "Instead of using features of items to determine their similarity, we focus on the similarity of the user ratings for two items. Recommendation for a user U is then made by looking at the users that are most similar to U in this sense, and recommending items that these users like."
   ]
  },
  {
   "cell_type": "markdown",
   "metadata": {},
   "source": [
    "* Measuring similarity: Best: normalise the rows in utility matrix to its mean. Extreme rater would no longer affect the recommendation. Then, cosine similarity. Positive => similar users.\n",
    "* Duality of Similarity: Classifying items themselves is easier than classifying users. Because items are easier to classify into genres and categories e.g. music tends to be in single genre. But users preference is often more complicated, one may like more than one genre.\n",
    "* Clustering Users and Items: To densify the sparse utility matrix between users vs items, one technique is to cluster items among themselves (likewise for users). "
   ]
  },
  {
   "cell_type": "markdown",
   "metadata": {},
   "source": [
    "## 4. Dimension reduction by Singular Value Decomposition"
   ]
  },
  {
   "cell_type": "markdown",
   "metadata": {},
   "source": [
    "* $M = U \\times V$ where $M$ (n users $\\times$ m items), U (n users $\\times$ d dimensions), V (d dimensions $\\times$ m items). $d$ dimensions that characterise both users and items. \n",
    "* Evaluate the decomposition by Root-Mean-Square-Error between UV product and M\n",
    "* Incremental computation to minimise RMSE by iteration\n",
    "* Whether the algorithm is efficient and global optimum is achievable?\n",
    "\n",
    "Advanced topics TODO Read again"
   ]
  },
  {
   "cell_type": "markdown",
   "metadata": {},
   "source": [
    "## 5. Learning from NetFlix challenge"
   ]
  },
  {
   "cell_type": "markdown",
   "metadata": {},
   "source": [
    "1. Estimate the baseline evaluation function\n",
    "2. Using UV-decomposition helps\n",
    "3. Combination of several algorithms does help\n",
    "4. Using external data e.g. IMDB\n",
    "5. Time of rating is another feature. More immediate rating is more trustful. "
   ]
  },
  {
   "cell_type": "code",
   "execution_count": null,
   "metadata": {
    "collapsed": true
   },
   "outputs": [],
   "source": []
  }
 ],
 "metadata": {
  "anaconda-cloud": {},
  "kernelspec": {
   "display_name": "Python 3",
   "language": "python",
   "name": "python3"
  },
  "language_info": {
   "codemirror_mode": {
    "name": "ipython",
    "version": 3
   },
   "file_extension": ".py",
   "mimetype": "text/x-python",
   "name": "python",
   "nbconvert_exporter": "python",
   "pygments_lexer": "ipython3",
   "version": "3.6.3"
  }
 },
 "nbformat": 4,
 "nbformat_minor": 1
}
